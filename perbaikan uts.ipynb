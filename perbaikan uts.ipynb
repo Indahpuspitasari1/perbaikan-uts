{
 "cells": [
  {
   "cell_type": "markdown",
   "id": "10705a8f",
   "metadata": {},
   "source": [
    "1.Kriteria algoritma adalah memiliki instruksi yang jelas sehingga proses yang dikerjakan tidak ambigu dan membingungkan. Kriteria tersebut adalah\n",
    "\n",
    "B.Definiteness\n",
    "\n",
    "2.Berdasarkan flowchart yang ada pada file attachment, Output apakah yang dihasilkan, jika -umur diisi dengan angka 4 -tinggi diisi dengan angka 70\n",
    "\n",
    "A.Pengunjung dilarang naik wahana\n",
    "\n",
    "3.Jika terdapat pseudocode seperti berikut ini:\n",
    "\n",
    "program salary_counting\n",
    "\n",
    "declaration: var salary, num_of_work_days, num_off_days, transport_allowance:integer transport_allowance : 20000 algorithm: read(num_of_work_days,num_off_days); {input user} salary -> num_of_work_days * 300000 - (num_off_days * transport_allowance) salary -> salary - (num_off_days * 300000)\n",
    "\n",
    "write(salary) Output apakah yang ditampilkan jika num_of_work_days diisi dengan nilai 22 dan num_off_days diisi dengan 5\n",
    "\n",
    "D.5000000\n",
    "\n",
    "4.Pada saat menggunakan IDE Jupyter Notebooks, untuk membuat cell markdown dengan tulisan JUPYTER GOODBOOKS dibawah cell code yang masih dalam keadaan aktif yaitu dengan cara ...\n",
    "\n",
    "D.ESCAPE -> M -> B -> ENTER -> JUPYTER GOODBOOKS\n",
    "\n",
    "5.Proses untuk mengidentifikasi sebuah folder agar dilakukan tracking menggunakan git adalah dengan menggunakan perintah\n",
    "\n",
    "A.git config\n",
    "\n",
    "6.Berikut ini adalah aturan penamaan variabel yang tepat pada pemrograman python\n",
    "\n",
    "D.Nama variabel hanya boleh diawali oleh huruf\n",
    "\n",
    "7.Output apakah yang dihasilkan, jika kode program seperti pada file attachment di eksekusi\n",
    "\n",
    "E.Program tidak error dan tidak ada jawaban yang tepat\n",
    "\n"
   ]
  },
  {
   "cell_type": "markdown",
   "id": "7059c8ee",
   "metadata": {},
   "source": [
    "9.Output apakah yang ditampilkan pada kode program seperti pada file attachment\n",
    "\n",
    "B.0 True True True\n",
    "\n",
    "10.Hasil output apakah yang dihasilkan jika terdapat angka dengan nilai = 255 kemudian dioperasikan AND dengan nilai = 15 ?\n",
    "\n",
    "A.True\n",
    "\n",
    "11.Terdapat variabel seperti berikut ini:\n",
    "\n",
    "address = \"Jalan Cibolang Kaler Nomor 21\"\n",
    "\n",
    "jika output yang diinginkan adalah jC maka proses pada kode program manakah yang benar ?\n",
    "\n",
    "D.c1 = address[0].lower(); c2 = address[6] ; print(c1 + c2)\n",
    "\n",
    "12.Setiap kondisi yang dilakukan pengecekan pada percabangan, pasti akan berisikan operator ...\n",
    "\n",
    "A.Aritmatika\n",
    "\n",
    "13.Manakah pernyataan berikut ini yang paling tepat?\n",
    "\n",
    "A.kode if selalu berpasangan dengan elif\n",
    "\n",
    "14.Output apakah yang ditampilkan jika kode program seperti pada file attachment dieksekusi?\n",
    "\n",
    "A.winger defender keeper\n",
    "\n",
    "15.Jika output kode program pada file attachment yang diinginkan adalah winger defender , maka nilai dari number_of_player diganti dengan\n",
    "\n",
    "A.20\n",
    "\n",
    "16.Looping for digunakan pada saat ..\n",
    "\n",
    "B.Permasalahan perulangan telah diketahui batas awal dan batas akhirnya\n",
    "\n",
    "17.Ciri-ciri dari looping while adalah ...\n",
    "\n",
    "E.Tidak ada jawaban yang tepat\n",
    "\n",
    "18.Output apakah yang dihasilkan, jika kode program seperti pada file attachment dieksekusi\n",
    "\n",
    "A.20\n",
    "\n",
    "19.Output apakah yang dihasilkan, jika kode program seperti pada file attachment dieksekusi\n",
    "\n",
    "D.5 35\n",
    "\n",
    "20.Jika terdapat kode program seperti pada file attachment\n",
    "\n",
    "Output apakah yang dihasilkan, jika kode program tersebut dieksekusi?\n",
    "\n",
    "E.Program akan menampilkan nilai yang berkurang 1 terus menerus tak hingga (infinite loop)"
   ]
  },
  {
   "cell_type": "markdown",
   "id": "8c3e026f",
   "metadata": {},
   "source": [
    "Essay 1. Buatlah program untuk mengecek bahwa sebuah email termasuk valid atau tidak . Valid diartikan True dan tidak valid diartikan False. Program dibuat dengan menggunakan string method tanpa condition (if) . Berikut contoh test case yang bisa digunakan sebagai acuan:\n",
    "\n",
    "input : alunsujjada@gmailcom output : False\n",
    "\n",
    "input : alunsujjada@gmail.com output : True\n",
    "\n",
    "input : alun.sujjada@gmail.com output : False\n",
    "\n",
    "input : alunsujjada.gmail.com output : False\n",
    "\n",
    "input : alun.sujjada@gmailcom output : False\n",
    "\n",
    "Clue : Gunakan pencarian posisi\n",
    "\n"
   ]
  },
  {
   "cell_type": "code",
   "execution_count": 1,
   "id": "ae9a7a02",
   "metadata": {},
   "outputs": [
    {
     "name": "stdout",
     "output_type": "stream",
     "text": [
      "masukan email anda : indah@gmai.com\n",
      "5\n",
      "10\n",
      "True\n"
     ]
    }
   ],
   "source": [
    "#indahpuspitasri200@gmail.com -> true\n",
    "#indah.puspitasari200@gmail.com -> false\n",
    "\n",
    "email = input(\"masukan email anda : \")\n",
    "\n",
    "pos_at = email.find('@')\n",
    "pos_dot = email.find('.')\n",
    "\n",
    "print(pos_at)\n",
    "print(pos_dot)\n",
    "\n",
    "print(pos_at < pos_dot)"
   ]
  },
  {
   "cell_type": "markdown",
   "id": "de00bf1e",
   "metadata": {},
   "source": [
    "Essay 2.Buatlah program dengan menggunakan kondisi perulangan dan percabangan untuk melakukan penyandian huruf pada sebuah kalimat yaitu dengan ketentuan sebagai berikut \n",
    "\n",
    "mengganti huruf a atau A dengan 4\n",
    "\n",
    "mengganti huruf e atau E dengan 3\n",
    "\n",
    "mengganti huruf L dengan 7\n",
    "\n",
    "mengganti huruf S dengan 5\n",
    "\n",
    "Contoh :\n",
    "\n",
    "input : BELAJAR Pemrograman Python Sangat Mudah sekali\n",
    "\n",
    "output : B374J4R P3mrogr4m4n Python 54ng4t Mud4h s3k4li\n",
    "\n",
    "input : Looping For digunakan ketika sudah diketahui batas Awal dan Batas Akhir\n",
    "\n",
    "output : 7ooping For digun4k4n k3tik4 sud4h dik3t4hui b4t4s 4w4l d4n B4t4s 4khir\n"
   ]
  },
  {
   "cell_type": "code",
   "execution_count": 1,
   "id": "dca86c56",
   "metadata": {},
   "outputs": [
    {
     "name": "stdout",
     "output_type": "stream",
     "text": [
      "Masukan kalimat :  Looping For digunakan ketika sudah diketahui batas Awal dan Batas Akhir\n",
      " 7ooping For digun4k4n k3tik4 sud4h dik3t4hui b4t4s 4w4l d4n B4t4s 4khir\n"
     ]
    }
   ],
   "source": [
    "#selamat datang\n",
    "\n",
    "kalimat = input('Masukan kalimat : ')\n",
    "i = 0\n",
    "kata = ''\n",
    "for i in range (len(kalimat)):\n",
    "    if kalimat[i] == 'a' or kalimat[i] == 'A':\n",
    "        kata = kata + '4'\n",
    "    elif kalimat[i]== 'e' or kalimat[i]==  'E':\n",
    "        kata = kata + '3'\n",
    "    elif kalimat[i]== 'L':\n",
    "        kata = kata + '7'\n",
    "    elif kalimat[i]== 'S':\n",
    "        kata = kata + '5'\n",
    "    else:\n",
    "        kata = kata + kalimat[i]\n",
    "print(kata)"
   ]
  }
 ],
 "metadata": {
  "kernelspec": {
   "display_name": "Python 3 (ipykernel)",
   "language": "python",
   "name": "python3"
  },
  "language_info": {
   "codemirror_mode": {
    "name": "ipython",
    "version": 3
   },
   "file_extension": ".py",
   "mimetype": "text/x-python",
   "name": "python",
   "nbconvert_exporter": "python",
   "pygments_lexer": "ipython3",
   "version": "3.9.12"
  }
 },
 "nbformat": 4,
 "nbformat_minor": 5
}
